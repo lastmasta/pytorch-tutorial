{
 "cells": [
  {
   "cell_type": "code",
   "execution_count": 1,
   "metadata": {},
   "outputs": [],
   "source": [
    "from __future__ import print_function\n",
    "import torch"
   ]
  },
  {
   "cell_type": "code",
   "execution_count": 2,
   "metadata": {},
   "outputs": [],
   "source": [
    "# Tensors"
   ]
  },
  {
   "cell_type": "code",
   "execution_count": 3,
   "metadata": {},
   "outputs": [
    {
     "name": "stdout",
     "output_type": "stream",
     "text": [
      "tensor([[ 0.0000e+00, -2.5244e-29,  0.0000e+00],\n",
      "        [-2.5244e-29,  3.0297e+32,  2.7224e+20],\n",
      "        [ 7.7782e+31,  4.7429e+30,  1.3818e+31],\n",
      "        [ 1.7225e+22,  1.4602e-19,  1.8617e+25],\n",
      "        [ 1.1835e+22,  4.3066e+21,  6.3828e+28]])\n"
     ]
    }
   ],
   "source": [
    "# Construct a 5x3 matrix, uninitialized:\n",
    "x = torch.empty(5, 3)\n",
    "print(x)"
   ]
  },
  {
   "cell_type": "code",
   "execution_count": 4,
   "metadata": {},
   "outputs": [
    {
     "name": "stdout",
     "output_type": "stream",
     "text": [
      "tensor([[0.1909, 0.9081, 0.0617],\n",
      "        [0.4454, 0.9349, 0.1353],\n",
      "        [0.8201, 0.8674, 0.3757],\n",
      "        [0.5450, 0.3785, 0.3264],\n",
      "        [0.7913, 0.4354, 0.2440]])\n"
     ]
    }
   ],
   "source": [
    "# Construct a randomly initialized matrix:\n",
    "x = torch.rand(5, 3)\n",
    "print(x)"
   ]
  },
  {
   "cell_type": "code",
   "execution_count": 5,
   "metadata": {},
   "outputs": [
    {
     "name": "stdout",
     "output_type": "stream",
     "text": [
      "tensor([[0, 0, 0],\n",
      "        [0, 0, 0],\n",
      "        [0, 0, 0],\n",
      "        [0, 0, 0],\n",
      "        [0, 0, 0]])\n"
     ]
    }
   ],
   "source": [
    "# Construct a matrix filled zeros and of dtype long:\n",
    "x = torch.zeros(5, 3, dtype=torch.long)\n",
    "print(x)"
   ]
  },
  {
   "cell_type": "code",
   "execution_count": 6,
   "metadata": {},
   "outputs": [
    {
     "name": "stdout",
     "output_type": "stream",
     "text": [
      "tensor([[1., 1., 1.],\n",
      "        [1., 1., 1.],\n",
      "        [1., 1., 1.],\n",
      "        [1., 1., 1.],\n",
      "        [1., 1., 1.]], dtype=torch.float64)\n"
     ]
    }
   ],
   "source": [
    "# or create a tensor bases on an existing tensor. These methods will reuse properties of the input tensor, e.g. dtype, unless new values are provided by user.\n",
    "x = x.new_ones(5, 3, dtype=torch.double)    # new_* methods take in sizes\n",
    "print(x)"
   ]
  },
  {
   "cell_type": "code",
   "execution_count": 7,
   "metadata": {},
   "outputs": [
    {
     "name": "stdout",
     "output_type": "stream",
     "text": [
      "tensor([[0.7572, 0.7105, 0.5106],\n",
      "        [0.1659, 0.0942, 0.3892],\n",
      "        [0.0237, 0.2645, 0.7006],\n",
      "        [0.5960, 0.5713, 0.4800],\n",
      "        [0.9588, 0.3914, 0.8073]])\n"
     ]
    }
   ],
   "source": [
    "x = torch.rand_like(x, dtype=torch.float)   # override dtype!\n",
    "print(x)"
   ]
  },
  {
   "cell_type": "code",
   "execution_count": 8,
   "metadata": {},
   "outputs": [
    {
     "name": "stdout",
     "output_type": "stream",
     "text": [
      "torch.Size([5, 3])\n"
     ]
    }
   ],
   "source": [
    "# Get its size:\n",
    "print(x.size())"
   ]
  },
  {
   "cell_type": "code",
   "execution_count": 9,
   "metadata": {},
   "outputs": [],
   "source": [
    "# Operations"
   ]
  },
  {
   "cell_type": "code",
   "execution_count": 10,
   "metadata": {},
   "outputs": [
    {
     "name": "stdout",
     "output_type": "stream",
     "text": [
      "tensor([[1.2964, 0.7176, 1.0137],\n",
      "        [0.7568, 0.1203, 0.6661],\n",
      "        [0.8953, 1.0710, 1.1012],\n",
      "        [1.1796, 1.5353, 1.1148],\n",
      "        [1.5554, 1.3471, 1.0146]])\n"
     ]
    }
   ],
   "source": [
    "# Addition: syntax 1\n",
    "y = torch.rand(5, 3)\n",
    "print(x + y)"
   ]
  }
 ],
 "metadata": {
  "kernelspec": {
   "display_name": "Python 3",
   "language": "python",
   "name": "python3"
  },
  "language_info": {
   "codemirror_mode": {
    "name": "ipython",
    "version": 3
   },
   "file_extension": ".py",
   "mimetype": "text/x-python",
   "name": "python",
   "nbconvert_exporter": "python",
   "pygments_lexer": "ipython3",
   "version": "3.6.5"
  }
 },
 "nbformat": 4,
 "nbformat_minor": 2
}
